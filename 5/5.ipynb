{
 "cells": [
  {
   "cell_type": "code",
   "execution_count": 1,
   "metadata": {},
   "outputs": [],
   "source": [
    "import numpy as np\n"
   ]
  },
  {
   "cell_type": "code",
   "execution_count": 2,
   "metadata": {},
   "outputs": [],
   "source": [
    "def pagerank(graph, num_iterations: int = 100, d: float = 0.85) -> np.array:\n",
    "    n = graph.shape[0]\n",
    "    pagerank_scores = np.ones(n) / n\n",
    "    for _ in range(num_iterations):\n",
    "        new_pagerank_scores = np.zeros(n)\n",
    "        for i in range(n):\n",
    "            for j in range(n):\n",
    "                if graph[j][i] == 1:\n",
    "                    new_pagerank_scores[i] += pagerank_scores[j] / np.sum(graph[j])\n",
    "            new_pagerank_scores[i] = d * new_pagerank_scores[i] + (1 - d) / n\n",
    "        pagerank_scores = new_pagerank_scores\n",
    "    return pagerank_scores"
   ]
  },
  {
   "cell_type": "code",
   "execution_count": 3,
   "metadata": {},
   "outputs": [
    {
     "name": "stdout",
     "output_type": "stream",
     "text": [
      "PageRank Scores: [0.25 0.25 0.25 0.25]\n"
     ]
    }
   ],
   "source": [
    "if __name__ == \"__main__\":\n",
    "    graph = np.array([[0, 1, 1, 0],\n",
    "    [0, 0, 1, 1],\n",
    "    [1, 0, 0, 1],\n",
    "    [1, 1, 0, 0]])\n",
    "    scores = pagerank(graph)\n",
    "    print(\"PageRank Scores:\", scores)\n"
   ]
  }
 ],
 "metadata": {
  "kernelspec": {
   "display_name": "Python 3",
   "language": "python",
   "name": "python3"
  },
  "language_info": {
   "codemirror_mode": {
    "name": "ipython",
    "version": 3
   },
   "file_extension": ".py",
   "mimetype": "text/x-python",
   "name": "python",
   "nbconvert_exporter": "python",
   "pygments_lexer": "ipython3",
   "version": "3.9.12"
  }
 },
 "nbformat": 4,
 "nbformat_minor": 2
}
